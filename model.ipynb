{
 "cells": [
  {
   "cell_type": "code",
   "execution_count": 158,
   "metadata": {},
   "outputs": [],
   "source": [
    "import pandas as pd\n",
    "import numpy as np\n",
    "\n",
    "import nltk\n",
    "from sklearn.feature_extraction.text import TfidfVectorizer\n",
    "from sklearn.model_selection import StratifiedShuffleSplit\n",
    "from sklearn.linear_model._stochastic_gradient import SGDClassifier\n",
    "\n",
    "from hazm import word_tokenize\n",
    "from hazm.Stemmer import Stemmer\n",
    "from sklearn import preprocessing\n",
    "\n",
    "from sklearn.feature_selection import chi2,SelectPercentile\n",
    "from sklearn import svm\n",
    "from sklearn.neighbors._classification import KNeighborsClassifier\n",
    "from sklearn.naive_bayes import MultinomialNB\n",
    "from sklearn.ensemble._weight_boosting import AdaBoostClassifier\n",
    "from sklearn.ensemble._forest import RandomForestClassifier\n",
    "from sklearn.ensemble import VotingClassifier\n",
    "from sklearn.metrics._classification import f1_score,precision_score,recall_score\n",
    "\n",
    "import pickle\n",
    "\n",
    "import matplotlib.pyplot as plt"
   ]
  },
  {
   "cell_type": "code",
   "execution_count": 47,
   "metadata": {},
   "outputs": [
    {
     "name": "stdout",
     "output_type": "stream",
     "text": [
      "[nltk_data] Downloading package stopwords to\n",
      "[nltk_data]     C:\\Users\\maili\\AppData\\Roaming\\nltk_data...\n",
      "[nltk_data]   Package stopwords is already up-to-date!\n"
     ]
    },
    {
     "data": {
      "text/plain": [
       "True"
      ]
     },
     "execution_count": 47,
     "metadata": {},
     "output_type": "execute_result"
    }
   ],
   "source": [
    "nltk.download('stopwords')"
   ]
  },
  {
   "cell_type": "code",
   "execution_count": 48,
   "metadata": {},
   "outputs": [
    {
     "name": "stdout",
     "output_type": "stream",
     "text": [
      "[nltk_data] Downloading package punkt to\n",
      "[nltk_data]     C:\\Users\\maili\\AppData\\Roaming\\nltk_data...\n",
      "[nltk_data]   Package punkt is already up-to-date!\n"
     ]
    },
    {
     "data": {
      "text/plain": [
       "True"
      ]
     },
     "execution_count": 48,
     "metadata": {},
     "output_type": "execute_result"
    }
   ],
   "source": [
    "nltk.download('punkt')"
   ]
  },
  {
   "cell_type": "code",
   "execution_count": 49,
   "metadata": {},
   "outputs": [],
   "source": [
    "nltk_stopwords = nltk.corpus.stopwords.words('english')"
   ]
  },
  {
   "cell_type": "code",
   "execution_count": 50,
   "metadata": {},
   "outputs": [],
   "source": [
    "chars   = 'D:\\\\Project\\\\Scraping\\\\MehrNews\\\\StopwordFarsi\\\\chars.txt'\n",
    "persian = 'D:\\\\Project\\\\Scraping\\\\MehrNews\\\\StopwordFarsi\\\\persian.txt'"
   ]
  },
  {
   "cell_type": "code",
   "execution_count": 51,
   "metadata": {},
   "outputs": [],
   "source": [
    "with open(persian,encoding='utf8') as stopWords_file:\n",
    "    stopwords = stopWords_file.readlines()\n",
    "stopwords = [str(line).replace('\\n', '') for line in stopwords]\n",
    "with open(chars,encoding='utf8') as stopWords_file:\n",
    "    stopwords = stopWords_file.readlines()\n",
    "chars = [str(line).replace('\\n', '') for line in stopwords]"
   ]
  },
  {
   "cell_type": "code",
   "execution_count": 52,
   "metadata": {},
   "outputs": [],
   "source": [
    "nltk_stopwords.extend(stopwords)\n",
    "nltk_stopwords.extend(chars)"
   ]
  },
  {
   "cell_type": "code",
   "execution_count": 53,
   "metadata": {},
   "outputs": [],
   "source": [
    "files = ['Economy','Sport','Politics' ,'Health']\n",
    "for file in files:\n",
    "    locals()[file] = pd.read_json(f'D:\\\\Project\\\\Scraping\\\\MehrNews\\\\Data\\\\{file}.json')\n",
    "    globals()[file]['category'] = file\n",
    "df = pd.DataFrame()\n",
    "for var in files:\n",
    "    df = pd.concat([df,globals()[var]],ignore_index=True)"
   ]
  },
  {
   "cell_type": "code",
   "execution_count": 54,
   "metadata": {},
   "outputs": [
    {
     "data": {
      "text/html": [
       "<div>\n",
       "<style scoped>\n",
       "    .dataframe tbody tr th:only-of-type {\n",
       "        vertical-align: middle;\n",
       "    }\n",
       "\n",
       "    .dataframe tbody tr th {\n",
       "        vertical-align: top;\n",
       "    }\n",
       "\n",
       "    .dataframe thead th {\n",
       "        text-align: right;\n",
       "    }\n",
       "</style>\n",
       "<table border=\"1\" class=\"dataframe\">\n",
       "  <thead>\n",
       "    <tr style=\"text-align: right;\">\n",
       "      <th></th>\n",
       "      <th>title</th>\n",
       "      <th>des</th>\n",
       "      <th>time</th>\n",
       "      <th>category</th>\n",
       "    </tr>\n",
       "  </thead>\n",
       "  <tbody>\n",
       "    <tr>\n",
       "      <th>0</th>\n",
       "      <td>کارت سوخت در ۳۵۰۰ جایگاه فعال شد</td>\n",
       "      <td>مدیرعامل شرکت ملی پخش فرآورده‌های نفتی از اتصا...</td>\n",
       "      <td>1400-08-10</td>\n",
       "      <td>Economy</td>\n",
       "    </tr>\n",
       "    <tr>\n",
       "      <th>1</th>\n",
       "      <td>جریمه‌های سنگین در انتظار پرمصرف‌های برق است</td>\n",
       "      <td>مدیرعامل شرکت توانیر گفت: طبق پیشنهاد ارائه شد...</td>\n",
       "      <td>1400-08-10</td>\n",
       "      <td>Economy</td>\n",
       "    </tr>\n",
       "    <tr>\n",
       "      <th>2</th>\n",
       "      <td>جزئیات نرخ رسمی ۴۶ ارز/ افزایش قیمت ۲۲ ارز</td>\n",
       "      <td>بانک مرکزی امروز (دوشنبه دهم آبان ماه ۱۴۰۰) نر...</td>\n",
       "      <td>1400-08-10</td>\n",
       "      <td>Economy</td>\n",
       "    </tr>\n",
       "    <tr>\n",
       "      <th>3</th>\n",
       "      <td>آغاز اجرای سرشماری آزمایشی در ۵ منطقه کشور</td>\n",
       "      <td>رئیس مرکز آمار ایران گفت: از یکم آبان سرشماری ...</td>\n",
       "      <td>1400-08-10</td>\n",
       "      <td>Economy</td>\n",
       "    </tr>\n",
       "    <tr>\n",
       "      <th>4</th>\n",
       "      <td>بازگشایی مسیر شمال به جنوب آزادراه تهران- شمال</td>\n",
       "      <td>مرکز مدیریت راه‌های کشور از بازگشایی مسیر شمال...</td>\n",
       "      <td>1400-08-10</td>\n",
       "      <td>Economy</td>\n",
       "    </tr>\n",
       "  </tbody>\n",
       "</table>\n",
       "</div>"
      ],
      "text/plain": [
       "                                            title  \\\n",
       "0                کارت سوخت در ۳۵۰۰ جایگاه فعال شد   \n",
       "1    جریمه‌های سنگین در انتظار پرمصرف‌های برق است   \n",
       "2      جزئیات نرخ رسمی ۴۶ ارز/ افزایش قیمت ۲۲ ارز   \n",
       "3      آغاز اجرای سرشماری آزمایشی در ۵ منطقه کشور   \n",
       "4  بازگشایی مسیر شمال به جنوب آزادراه تهران- شمال   \n",
       "\n",
       "                                                 des        time category  \n",
       "0  مدیرعامل شرکت ملی پخش فرآورده‌های نفتی از اتصا...  1400-08-10  Economy  \n",
       "1  مدیرعامل شرکت توانیر گفت: طبق پیشنهاد ارائه شد...  1400-08-10  Economy  \n",
       "2  بانک مرکزی امروز (دوشنبه دهم آبان ماه ۱۴۰۰) نر...  1400-08-10  Economy  \n",
       "3  رئیس مرکز آمار ایران گفت: از یکم آبان سرشماری ...  1400-08-10  Economy  \n",
       "4  مرکز مدیریت راه‌های کشور از بازگشایی مسیر شمال...  1400-08-10  Economy  "
      ]
     },
     "execution_count": 54,
     "metadata": {},
     "output_type": "execute_result"
    }
   ],
   "source": [
    "df.head()"
   ]
  },
  {
   "cell_type": "code",
   "execution_count": 55,
   "metadata": {},
   "outputs": [
    {
     "data": {
      "text/plain": [
       "title       0\n",
       "des         0\n",
       "time        0\n",
       "category    0\n",
       "dtype: int64"
      ]
     },
     "execution_count": 55,
     "metadata": {},
     "output_type": "execute_result"
    }
   ],
   "source": [
    "df.isnull().sum()"
   ]
  },
  {
   "cell_type": "code",
   "execution_count": 56,
   "metadata": {},
   "outputs": [
    {
     "data": {
      "text/plain": [
       "[<matplotlib.lines.Line2D at 0x231730c1580>]"
      ]
     },
     "execution_count": 56,
     "metadata": {},
     "output_type": "execute_result"
    },
    {
     "data": {
      "image/png": "[encoded data removed]",
      "text/plain": [
       "<Figure size 432x288 with 1 Axes>"
      ]
     },
     "metadata": {
      "needs_background": "light"
     },
     "output_type": "display_data"
    }
   ],
   "source": [
    "temp = pd.DataFrame(df.category.value_counts()).reset_index()\n",
    "plt.plot(temp['index'],temp['category'])"
   ]
  },
  {
   "cell_type": "code",
   "execution_count": 57,
   "metadata": {},
   "outputs": [],
   "source": [
    "stemmer = Stemmer()\n",
    "dataset = pd.DataFrame(columns=('title_des','category'))"
   ]
  },
  {
   "cell_type": "code",
   "execution_count": 58,
   "metadata": {},
   "outputs": [
    {
     "data": {
      "text/html": [
       "<div>\n",
       "<style scoped>\n",
       "    .dataframe tbody tr th:only-of-type {\n",
       "        vertical-align: middle;\n",
       "    }\n",
       "\n",
       "    .dataframe tbody tr th {\n",
       "        vertical-align: top;\n",
       "    }\n",
       "\n",
       "    .dataframe thead th {\n",
       "        text-align: right;\n",
       "    }\n",
       "</style>\n",
       "<table border=\"1\" class=\"dataframe\">\n",
       "  <thead>\n",
       "    <tr style=\"text-align: right;\">\n",
       "      <th></th>\n",
       "      <th>title_des</th>\n",
       "      <th>category</th>\n",
       "    </tr>\n",
       "  </thead>\n",
       "  <tbody>\n",
       "    <tr>\n",
       "      <th>0</th>\n",
       "      <td>کار سوخ در ۳۵۰۰ جایگاه فعال شد مدیرعامل شرک مل...</td>\n",
       "      <td>Economy</td>\n",
       "    </tr>\n",
       "    <tr>\n",
       "      <th>1</th>\n",
       "      <td>جریمه سنگین در انتظار پرمصرف برق اس مدیرعامل ش...</td>\n",
       "      <td>Economy</td>\n",
       "    </tr>\n",
       "    <tr>\n",
       "      <th>2</th>\n",
       "      <td>جزئ نرخ رسم ۴۶ ارز/ افزا قیم ۲۲ ارز بانک مرکز ...</td>\n",
       "      <td>Economy</td>\n",
       "    </tr>\n",
       "    <tr>\n",
       "      <th>3</th>\n",
       "      <td>آغاز اجرا سرشمار آزمایش در منطقه کشور رئیس مرک...</td>\n",
       "      <td>Economy</td>\n",
       "    </tr>\n",
       "    <tr>\n",
       "      <th>4</th>\n",
       "      <td>بازگشا مسیر شمال به جنوب آزادراه تهران- شمال م...</td>\n",
       "      <td>Economy</td>\n",
       "    </tr>\n",
       "  </tbody>\n",
       "</table>\n",
       "</div>"
      ],
      "text/plain": [
       "                                           title_des category\n",
       "0  کار سوخ در ۳۵۰۰ جایگاه فعال شد مدیرعامل شرک مل...  Economy\n",
       "1  جریمه سنگین در انتظار پرمصرف برق اس مدیرعامل ش...  Economy\n",
       "2  جزئ نرخ رسم ۴۶ ارز/ افزا قیم ۲۲ ارز بانک مرکز ...  Economy\n",
       "3  آغاز اجرا سرشمار آزمایش در منطقه کشور رئیس مرک...  Economy\n",
       "4  بازگشا مسیر شمال به جنوب آزادراه تهران- شمال م...  Economy"
      ]
     },
     "execution_count": 58,
     "metadata": {},
     "output_type": "execute_result"
    }
   ],
   "source": [
    "for index,row in df.iterrows():\n",
    "    title_des = row['title'] +' '+row['des']\n",
    "    title_des_tokenized = word_tokenize(title_des)\n",
    "    title_des_tokenized_filtered = [w for w in title_des_tokenized if not w in nltk_stopwords]\n",
    "    title_des_tokenized_filtered_stemming = [stemmer.stem(w) for w in title_des_tokenized_filtered]\n",
    "    dataset.loc[index] = {'title_des':' '.join(title_des_tokenized_filtered_stemming),'category':row['category']}\n",
    "dataset.head()"
   ]
  },
  {
   "cell_type": "code",
   "execution_count": 59,
   "metadata": {},
   "outputs": [],
   "source": [
    "vectorizer = TfidfVectorizer(sublinear_tf=True,max_df=0.5)\n",
    "train = vectorizer.fit(dataset['title_des']).transform(dataset['title_des'])"
   ]
  },
  {
   "cell_type": "code",
   "execution_count": 60,
   "metadata": {},
   "outputs": [],
   "source": [
    "file = open('vectorizer.norouzi','ab')\n",
    "pickle.dump(vectorizer,file)\n",
    "file.close()"
   ]
  },
  {
   "cell_type": "code",
   "execution_count": 61,
   "metadata": {},
   "outputs": [],
   "source": [
    "le = preprocessing.LabelEncoder()\n",
    "y = le.fit(dataset['category']).transform(dataset['category'])"
   ]
  },
  {
   "cell_type": "code",
   "execution_count": 62,
   "metadata": {},
   "outputs": [],
   "source": [
    "file = open('LabelEncoder.norouzi','ab')\n",
    "pickle.dump(le,file)\n",
    "file.close()"
   ]
  },
  {
   "cell_type": "code",
   "execution_count": 63,
   "metadata": {},
   "outputs": [
    {
     "data": {
      "text/plain": [
       "array(['Economy', 'Health', 'Politics', 'Sport'], dtype=object)"
      ]
     },
     "execution_count": 63,
     "metadata": {},
     "output_type": "execute_result"
    }
   ],
   "source": [
    "np.unique(dataset['category'])"
   ]
  },
  {
   "cell_type": "code",
   "execution_count": 64,
   "metadata": {},
   "outputs": [],
   "source": [
    "split = StratifiedShuffleSplit(n_splits=10,test_size=0.2,random_state=42)\n",
    "for train_index,test_index in split.split(X,y):\n",
    "    X_train,X_test = X[train_index] , X[test_index]\n",
    "    y_train,y_test = y[train_index] , y[test_index]"
   ]
  },
  {
   "cell_type": "code",
   "execution_count": 65,
   "metadata": {},
   "outputs": [],
   "source": [
    "ch2 = SelectPercentile(chi2,percentile=80)"
   ]
  },
  {
   "cell_type": "code",
   "execution_count": 66,
   "metadata": {},
   "outputs": [],
   "source": [
    "X_train = ch2.fit_transform(X_train,y_train)\n",
    "X_test = ch2.transform(X_test)"
   ]
  },
  {
   "cell_type": "code",
   "execution_count": 67,
   "metadata": {},
   "outputs": [
    {
     "name": "stdout",
     "output_type": "stream",
     "text": [
      "0.9983880253310305\n"
     ]
    }
   ],
   "source": [
    "sgd = SGDClassifier()\n",
    "sgd.fit(X_train,y_train)\n",
    "score = sgd.score(X_test, y_test)\n",
    "print(score)"
   ]
  },
  {
   "cell_type": "code",
   "execution_count": 68,
   "metadata": {},
   "outputs": [
    {
     "data": {
      "text/plain": [
       "(43424, 5143)"
      ]
     },
     "execution_count": 68,
     "metadata": {},
     "output_type": "execute_result"
    }
   ],
   "source": [
    "np.shape(X)"
   ]
  },
  {
   "cell_type": "code",
   "execution_count": 69,
   "metadata": {},
   "outputs": [],
   "source": [
    "sgd = SGDClassifier()\n",
    "sgd.fit(X,y)\n",
    "file = open('sgdAL.norouzi','ab')\n",
    "pickle.dump(sgd,file)\n",
    "file.close()"
   ]
  },
  {
   "cell_type": "code",
   "execution_count": 70,
   "metadata": {},
   "outputs": [
    {
     "name": "stdout",
     "output_type": "stream",
     "text": [
      "0.9997697179044329\n"
     ]
    }
   ],
   "source": [
    "svmc = svm.SVC()\n",
    "svmc.fit(X_train,y_train)\n",
    "score = svmc.score(X_test, y_test)\n",
    "print(score)"
   ]
  },
  {
   "cell_type": "code",
   "execution_count": 71,
   "metadata": {},
   "outputs": [
    {
     "name": "stdout",
     "output_type": "stream",
     "text": [
      "0.9989637305699481\n"
     ]
    }
   ],
   "source": [
    "knn = KNeighborsClassifier()\n",
    "knn.fit(X_train,y_train)\n",
    "score = knn.score(X_test, y_test)\n",
    "print(score)"
   ]
  },
  {
   "cell_type": "code",
   "execution_count": 72,
   "metadata": {},
   "outputs": [
    {
     "name": "stdout",
     "output_type": "stream",
     "text": [
      "0.9795048934945308\n"
     ]
    }
   ],
   "source": [
    "mnnb = MultinomialNB()\n",
    "mnnb.fit(X_train,y_train)\n",
    "score = mnnb.score(X_test, y_test)\n",
    "print(score)"
   ]
  },
  {
   "cell_type": "code",
   "execution_count": 73,
   "metadata": {},
   "outputs": [
    {
     "name": "stdout",
     "output_type": "stream",
     "text": [
      "0.8563039723661485\n"
     ]
    }
   ],
   "source": [
    "abd = AdaBoostClassifier()\n",
    "abd.fit(X_train,y_train)\n",
    "score = abd.score(X_test, y_test)\n",
    "print(score)"
   ]
  }
 ],
 "metadata": {
  "interpreter": {
   "hash": "c900f103a300001e767ada55af3ac9d455f057f30f8b06dca7de25fa89a2bebe"
  },
  "kernelspec": {
   "display_name": "Python 3.9.6 64-bit ('venv': venv)",
   "name": "python3"
  },
  "language_info": {
   "codemirror_mode": {
    "name": "ipython",
    "version": 3
   },
   "file_extension": ".py",
   "mimetype": "text/x-python",
   "name": "python",
   "nbconvert_exporter": "python",
   "pygments_lexer": "ipython3",
   "version": "3.9.6"
  },
  "orig_nbformat": 4
 },
 "nbformat": 4,
 "nbformat_minor": 2
}
